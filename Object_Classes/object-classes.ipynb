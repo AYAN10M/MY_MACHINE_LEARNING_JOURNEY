{
 "cells": [
  {
   "cell_type": "code",
   "execution_count": 1,
   "metadata": {},
   "outputs": [],
   "source": [
    "## In python we can create class using \"class\" keyword\n",
    "\n",
    "## declaring \"Car\" class\n",
    "class Car:\n",
    "    wheel = 4\n",
    "    door = 2;"
   ]
  },
  {
   "cell_type": "code",
   "execution_count": 2,
   "metadata": {},
   "outputs": [
    {
     "name": "stdout",
     "output_type": "stream",
     "text": [
      "<class '__main__.Car'>\n",
      "4\n"
     ]
    }
   ],
   "source": [
    "## Creating Car class object name \"audi\"\n",
    "audi = Car()\n",
    "\n",
    "print(type(audi))\n",
    "print(audi.wheel)"
   ]
  },
  {
   "cell_type": "code",
   "execution_count": 3,
   "metadata": {},
   "outputs": [
    {
     "name": "stdout",
     "output_type": "stream",
     "text": [
      "<__main__.Car object at 0x0000024797B4C1D0>\n"
     ]
    }
   ],
   "source": [
    "## this will print the memory address of the\n",
    "print(audi)"
   ]
  },
  {
   "cell_type": "code",
   "execution_count": 4,
   "metadata": {},
   "outputs": [
    {
     "name": "stdout",
     "output_type": "stream",
     "text": [
      "4\n"
     ]
    }
   ],
   "source": [
    "## Using attribute of the object audi\n",
    "print(audi.wheel)"
   ]
  },
  {
   "cell_type": "code",
   "execution_count": 5,
   "metadata": {},
   "outputs": [
    {
     "data": {
      "text/plain": [
       "['__class__',\n",
       " '__delattr__',\n",
       " '__dict__',\n",
       " '__dir__',\n",
       " '__doc__',\n",
       " '__eq__',\n",
       " '__format__',\n",
       " '__ge__',\n",
       " '__getattribute__',\n",
       " '__getstate__',\n",
       " '__gt__',\n",
       " '__hash__',\n",
       " '__init__',\n",
       " '__init_subclass__',\n",
       " '__le__',\n",
       " '__lt__',\n",
       " '__module__',\n",
       " '__ne__',\n",
       " '__new__',\n",
       " '__reduce__',\n",
       " '__reduce_ex__',\n",
       " '__repr__',\n",
       " '__setattr__',\n",
       " '__sizeof__',\n",
       " '__str__',\n",
       " '__subclasshook__',\n",
       " '__weakref__',\n",
       " 'door',\n",
       " 'wheel']"
      ]
     },
     "execution_count": 5,
     "metadata": {},
     "output_type": "execute_result"
    }
   ],
   "source": [
    "## When called with an object as an argument, dir() returns a list of all the attributes (variables) and methods (functions) available for that object.\n",
    "dir(audi)"
   ]
  },
  {
   "cell_type": "code",
   "execution_count": 6,
   "metadata": {},
   "outputs": [
    {
     "data": {
      "text/plain": [
       "['__class__',\n",
       " '__delattr__',\n",
       " '__dict__',\n",
       " '__dir__',\n",
       " '__doc__',\n",
       " '__eq__',\n",
       " '__format__',\n",
       " '__ge__',\n",
       " '__getattribute__',\n",
       " '__getstate__',\n",
       " '__gt__',\n",
       " '__hash__',\n",
       " '__init__',\n",
       " '__init_subclass__',\n",
       " '__le__',\n",
       " '__lt__',\n",
       " '__module__',\n",
       " '__ne__',\n",
       " '__new__',\n",
       " '__reduce__',\n",
       " '__reduce_ex__',\n",
       " '__repr__',\n",
       " '__setattr__',\n",
       " '__sizeof__',\n",
       " '__str__',\n",
       " '__subclasshook__',\n",
       " '__weakref__',\n",
       " 'door',\n",
       " 'wheel']"
      ]
     },
     "execution_count": 6,
     "metadata": {},
     "output_type": "execute_result"
    }
   ],
   "source": [
    "dir(Car)"
   ]
  },
  {
   "cell_type": "code",
   "execution_count": 7,
   "metadata": {},
   "outputs": [],
   "source": [
    "## Instance Varible and Methods\n",
    "\n",
    "## Creating class \"dog\"\n",
    "class dog:\n",
    "    ## Constructor\n",
    "    ## like we use \"this\"  in java we use \"self\" in python\n",
    "    def __init__(self, name, age):\n",
    "        self.name = name\n",
    "        self.age = age\n",
    "\n",
    "    ## The self parameter is a reference to the current instance of the class, and is used to access variables that belongs to the class.\n",
    "    def info(self):\n",
    "        print(self.name, self.age)\n",
    "\n",
    "    def bark(self):\n",
    "        ## The f before the quotes indicates an f-string, which allows embedding expressions or variables directly into the string.\n",
    "        print(f\"{self.name} says woof\")\n"
   ]
  },
  {
   "cell_type": "code",
   "execution_count": 8,
   "metadata": {},
   "outputs": [
    {
     "name": "stdout",
     "output_type": "stream",
     "text": [
      "spike says woof\n",
      "tom says woof\n"
     ]
    }
   ],
   "source": [
    "# Creating object\n",
    "d1 = dog(\"spike\", 5)\n",
    "d1.bark()\n",
    "d2 = dog(\"tom\", 2)\n",
    "d2.bark()"
   ]
  },
  {
   "cell_type": "code",
   "execution_count": 9,
   "metadata": {},
   "outputs": [
    {
     "name": "stdout",
     "output_type": "stream",
     "text": [
      "spike\n"
     ]
    }
   ],
   "source": [
    "print(d1.name)"
   ]
  },
  {
   "cell_type": "code",
   "execution_count": 10,
   "metadata": {},
   "outputs": [],
   "source": [
    "## Modelling a Bank Account\n",
    "\n",
    "class BankAccount:\n",
    "    def __init__(self, owner, account_number, balance = 0):\n",
    "        self.owner = owner\n",
    "        self.account_number = account_number\n",
    "        self.balance = balance\n",
    "\n",
    "    def deposit(self, amount):\n",
    "        self.balance += amount\n",
    "        print(f\"Deposit of {amount} accepted. New balance is {self.balance}\")\n",
    "\n",
    "    def withdraw(self, amount):\n",
    "        if self.balance >= amount:\n",
    "            self.balance -= amount\n",
    "            print(f\"Withdrawal of {amount} accepted. New balance is {self.balance}\")\n",
    "        else:\n",
    "            print(\"Insufficient funds\")\n",
    "\n",
    "    def get_balance(self):\n",
    "        print(f\"Current balance is {self.balance}\")\n"
   ]
  },
  {
   "cell_type": "code",
   "execution_count": 11,
   "metadata": {},
   "outputs": [
    {
     "name": "stdout",
     "output_type": "stream",
     "text": [
      "Deposit of 500 accepted. New balance is 5500\n",
      "Withdrawal of 200 accepted. New balance is 5300\n",
      "Current balance is 5300\n"
     ]
    }
   ],
   "source": [
    "## Creating bank account\n",
    "account_1 = BankAccount(\"\", \"123456789\", 5000)\n",
    "account_2 = BankAccount(\"Jane Doe\", \"987654321\", 100)\n",
    "\n",
    "account_1.deposit(500)\n",
    "account_1.withdraw(200)\n",
    "account_1.get_balance()"
   ]
  },
  {
   "cell_type": "markdown",
   "metadata": {},
   "source": [
    "## Inheritence"
   ]
  },
  {
   "cell_type": "code",
   "execution_count": 12,
   "metadata": {},
   "outputs": [],
   "source": [
    "## Single Inheritence\n",
    "## Parent Class\n",
    "class Car:\n",
    "    def __init__(self, windows, doors, enginetype):\n",
    "        self.windows = windows\n",
    "        self.doors = doors\n",
    "        self.enginetype = enginetype\n",
    "\n",
    "    def drive(self):\n",
    "        print(f\"The person will drive the {self.enginetype} car\")"
   ]
  },
  {
   "cell_type": "code",
   "execution_count": 13,
   "metadata": {},
   "outputs": [
    {
     "name": "stdout",
     "output_type": "stream",
     "text": [
      "The person will drive the petrol car\n"
     ]
    }
   ],
   "source": [
    "car = Car(4, 5, \"petrol\")\n",
    "car.drive()"
   ]
  },
  {
   "cell_type": "code",
   "execution_count": 14,
   "metadata": {},
   "outputs": [],
   "source": [
    "## In java we use \"extends\" keyword to inherit the parent class but in python we use Class_Name(Parent_Class_Name) \n",
    "class Tesla(Car):\n",
    "    def __init__(self, windows, doors, enginetype, is_selfdriving):\n",
    "        ## super will call the parent class constructor here\n",
    "        super().__init__(windows, doors, enginetype)\n",
    "        self.is_selfdriving = is_selfdriving\n",
    "    \n",
    "    def selfdriving(self):\n",
    "        print(f\"Tesla supports self driving: {self.is_selfdriving}\")"
   ]
  },
  {
   "cell_type": "code",
   "execution_count": 15,
   "metadata": {},
   "outputs": [
    {
     "name": "stdout",
     "output_type": "stream",
     "text": [
      "The person will drive the electric car\n",
      "Tesla supports self driving: True\n"
     ]
    }
   ],
   "source": [
    "tesla_car = Tesla(4, 5, \"electric\", True)\n",
    "tesla_car.drive()\n",
    "tesla_car.selfdriving()"
   ]
  },
  {
   "cell_type": "code",
   "execution_count": 16,
   "metadata": {},
   "outputs": [],
   "source": [
    "## Multiple Inheritence\n",
    "class Animal:\n",
    "    def __init__(self, name):\n",
    "        self.name = name\n",
    "\n",
    "    def speak(self):\n",
    "        print(\"This method is need to be defined in \")\n",
    "\n",
    "class Pet:\n",
    "    def __init__(self, owner):\n",
    "        self.owner = owner\n",
    "\n",
    "class Dog(Animal, Pet):\n",
    "    def __init__(self, name, owner):\n",
    "        ## Note we did not use super in this case, we call the parent class constructor using the parent class name\n",
    "        Animal.__init__(self, name)\n",
    "        Pet.__init__(self, owner)\n",
    "    \n",
    "    def speak(self):\n",
    "        print(f\"{self.name} makes a sound woff\")"
   ]
  },
  {
   "cell_type": "code",
   "execution_count": 17,
   "metadata": {},
   "outputs": [
    {
     "name": "stdout",
     "output_type": "stream",
     "text": [
      "Lucy makes a sound woff\n",
      "Owner: Joseph\n"
     ]
    }
   ],
   "source": [
    "dog = Dog(\"Lucy\", \"Joseph\")\n",
    "dog.speak()\n",
    "print(f\"Owner: {dog.owner}\")"
   ]
  },
  {
   "cell_type": "markdown",
   "metadata": {},
   "source": [
    "## Polymorphism"
   ]
  },
  {
   "cell_type": "code",
   "execution_count": 18,
   "metadata": {},
   "outputs": [
    {
     "name": "stdout",
     "output_type": "stream",
     "text": [
      "Woof!\n",
      "Meow!\n",
      "Woof!\n"
     ]
    }
   ],
   "source": [
    "# Method Overriding\n",
    "class Animal:\n",
    "    def speak(self):\n",
    "        return \"Sound of the animal\"\n",
    "\n",
    "class Dog(Animal):\n",
    "    def speak(self):\n",
    "        return \"Woof!\"\n",
    "\n",
    "class Cat(Animal):\n",
    "    def speak(self):\n",
    "        return \"Meow!\"\n",
    "\n",
    "def animal_speak(animal):\n",
    "    print(animal.speak())\n",
    "\n",
    "\n",
    "dog = Dog()\n",
    "print(dog.speak())\n",
    "\n",
    "cat = Cat()\n",
    "print(cat.speak())\n",
    "\n",
    "animal_speak(dog)"
   ]
  },
  {
   "cell_type": "code",
   "execution_count": 19,
   "metadata": {
    "editable": true,
    "slideshow": {
     "slide_type": ""
    },
    "tags": []
   },
   "outputs": [
    {
     "name": "stdout",
     "output_type": "stream",
     "text": [
      "the area is 20\n",
      "the area is 28.259999999999998\n"
     ]
    }
   ],
   "source": [
    "### Polymorphism\n",
    "\n",
    "class Shape:\n",
    "    def area(self):\n",
    "        return \"The area of the figure\"\n",
    "\n",
    "class Rectangle(Shape):\n",
    "    def __init__(self, width, height):\n",
    "        self.width = width\n",
    "        self.height = height\n",
    "\n",
    "    def area(self):\n",
    "        return self.width * self.height\n",
    "\n",
    "class Circle(Shape):\n",
    "    def __init__(self, radius):\n",
    "        self.radius = radius\n",
    "\n",
    "    def area(self):\n",
    "        return 3.14 * self.radius * self.radius\n",
    "\n",
    "def print_area(shape):\n",
    "    print(f\"the area is {shape.area()}\")\n",
    "\n",
    "rectangle = Rectangle(4,5)\n",
    "circle = Circle(3)\n",
    "\n",
    "print_area(rectangle)\n",
    "print_area(circle)"
   ]
  },
  {
   "cell_type": "markdown",
   "metadata": {},
   "source": [
    "### Polymorphism with Abstract Base Classes [Interfaces]"
   ]
  },
  {
   "cell_type": "code",
   "execution_count": 20,
   "metadata": {},
   "outputs": [
    {
     "name": "stdout",
     "output_type": "stream",
     "text": [
      "Car engine start\n",
      "Motorcycle engine started\n"
     ]
    }
   ],
   "source": [
    "## ABC - Abstract Base Classes \n",
    "from abc import ABC, abstractmethod\n",
    "\n",
    "## Define an abstract class\n",
    "class Vehicle(ABC):\n",
    "    @abstractmethod\n",
    "    def start_engine(self):\n",
    "        pass\n",
    "\n",
    "## Derived class\n",
    "class Car(Vehicle):\n",
    "    def start_engine(self):\n",
    "        return \"Car engine start\"\n",
    "\n",
    "class Motorcycle(Vehicle):\n",
    "    def start_engine(self):\n",
    "        return \"Motorcycle engine started\"\n",
    "\n",
    "## Function to implement polymorphism\n",
    "## Passing object to the function\n",
    "def start_vehicle(vehicle):\n",
    "    print(vehicle.start_engine())\n",
    "\n",
    "## Creating object of Car and MotoCycle\n",
    "\n",
    "car = Car()\n",
    "motorcycle = Motorcycle()\n",
    "\n",
    "start_vehicle(car)\n",
    "start_vehicle(motorcycle)"
   ]
  },
  {
   "cell_type": "markdown",
   "metadata": {},
   "source": [
    "## Encapsulation\n",
    "\n",
    "### Type of Access Modifier:\n",
    "\n",
    "- **Public**\n",
    "- **Protected**\n",
    "- **Private**"
   ]
  },
  {
   "cell_type": "code",
   "execution_count": 9,
   "metadata": {},
   "outputs": [
    {
     "name": "stdout",
     "output_type": "stream",
     "text": [
      "Name: John\n",
      "Account Balance: 5000\n",
      "Mail ID: johndoe@gmail.com\n",
      "\n",
      "Employee Details:\n",
      "Name: Alice\n",
      "Age: 30\n",
      "Employee ID: 101\n",
      "Account Balance: 7000\n",
      "Employee ID: 101, Name: Alice, Salary: 50000\n",
      "Updated Account Balance: 10000\n"
     ]
    }
   ],
   "source": [
    "class Person:\n",
    "    def __init__(self, name, age, gender, account_balance, mailid):\n",
    "        self.name = name                            # Public Attribute\n",
    "        self.age = age                              # Public Attribute\n",
    "        self.gender = gender                        # Public Attribute\n",
    "        self.__account_balance = account_balance    # Private Attribute (Encapsulated)\n",
    "        self._mailid = mailid                       # Protected Attribute\n",
    "\n",
    "    # Getter method for private attribute (Recommended way)\n",
    "    def get_account_balance(self):\n",
    "        return self.__account_balance\n",
    "\n",
    "    # Setter method for private attribute (Recommended way)\n",
    "    def set_account_balance(self, balance):\n",
    "        if balance >= 0:\n",
    "            self.__account_balance = balance\n",
    "        else:\n",
    "            raise ValueError(\"Account balance cannot be negative!\")\n",
    "\n",
    "    # Getter method for protected attribute (Encapsulated access)\n",
    "    def get_mailid(self):\n",
    "        return self._mailid\n",
    "\n",
    "\n",
    "# Employee class inheriting from Person\n",
    "class Employee(Person):\n",
    "    def __init__(self, name, age, gender, account_balance, mailid, emp_id, salary):\n",
    "        super().__init__(name, age, gender, account_balance, mailid)\n",
    "        self._emp_id = emp_id   # Protected Attribute\n",
    "        self.salary = salary    # Public Attribute\n",
    "\n",
    "    # Getter method for protected Employee ID\n",
    "    def get_emp_id(self):\n",
    "        return self._emp_id\n",
    "\n",
    "    # Getter method for employee details\n",
    "    def get_emp_info(self):\n",
    "        return f\"Employee ID: {self._emp_id}, Name: {self.name}, Salary: {self.salary}\"\n",
    "\n",
    "    # Overriding the parent's getter method for private attribute (if needed)\n",
    "    def get_balance(self):\n",
    "        return self.get_account_balance()\n",
    "\n",
    "    # Overriding the parent's setter method for private attribute\n",
    "    def update_balance(self, new_balance):\n",
    "        self.set_account_balance(new_balance)\n",
    "\n",
    "\n",
    "# Creating a Person object\n",
    "person = Person(\"John\", 25, \"Male\", 5000, \"johndoe@gmail.com\")\n",
    "\n",
    "# Accessing public attribute\n",
    "print(\"Name:\", person.name)\n",
    "\n",
    "# Accessing private attribute using getter\n",
    "print(\"Account Balance:\", person.get_account_balance())\n",
    "\n",
    "# Accessing protected attribute (not recommended)\n",
    "print(\"Mail ID:\", person.get_mailid())\n",
    "\n",
    "# Attempting to access private attribute directly (will cause an AttributeError)\n",
    "# print(person.__account_balance)\n",
    "\n",
    "# Creating an Employee object\n",
    "emp1 = Employee(\"Alice\", 30, \"Female\", 7000, \"alice@gmail.com\", 101, 50000)\n",
    "\n",
    "# Accessing inherited public attributes\n",
    "print(\"\\nEmployee Details:\")\n",
    "print(\"Name:\", emp1.name)\n",
    "print(\"Age:\", emp1.age)\n",
    "\n",
    "# Accessing protected attribute via getter\n",
    "print(\"Employee ID:\", emp1.get_emp_id())\n",
    "\n",
    "# Accessing private attribute via inherited getter method\n",
    "print(\"Account Balance:\", emp1.get_balance())\n",
    "\n",
    "# Displaying employee information\n",
    "print(emp1.get_emp_info())\n",
    "\n",
    "# Updating private attribute using setter\n",
    "emp1.update_balance(10000)\n",
    "print(\"Updated Account Balance:\", emp1.get_balance())\n"
   ]
  },
  {
   "cell_type": "markdown",
   "metadata": {},
   "source": [
    "**# Abstraction in Python**\n",
    "\n",
    "**Abstraction** is a way to hide the implementation details and show only the functionality to the user.\n"
   ]
  },
  {
   "cell_type": "code",
   "execution_count": 7,
   "metadata": {},
   "outputs": [
    {
     "name": "stdout",
     "output_type": "stream",
     "text": [
      "Car engine started\n",
      "Motorcycle engine started\n"
     ]
    }
   ],
   "source": [
    "from abc import ABC, abstractmethod\n",
    "\n",
    "## Abstract class\n",
    "class Vehicle(ABC):\n",
    "    def drive(self):\n",
    "        print(\"The vechile is use for driving\")\n",
    "\n",
    "    ## Whene we use @abstractmethod decorator, it means that the method is abstract and must be implemented in the derived class\n",
    "    @abstractmethod\n",
    "    def start_engine(self):\n",
    "        pass\n",
    "\n",
    "class Car(Vehicle):\n",
    "    def start_engine(self):\n",
    "        print(\"Car engine started\")\n",
    "\n",
    "class Motorcycle(Vehicle):\n",
    "    def start_engine(self):\n",
    "        print(\"Motorcycle engine started\")\n",
    "\n",
    "def start_vehicle(vehicle):\n",
    "    vehicle.start_engine()\n",
    "\n",
    "## This will give error as we can not create object of abstract class\n",
    "## vehicle = Vehicle()\n",
    "\n",
    "car = Car()\n",
    "motorcycle = Motorcycle()\n",
    "\n",
    "start_vehicle(car)\n",
    "start_vehicle(motorcycle)"
   ]
  },
  {
   "cell_type": "markdown",
   "metadata": {},
   "source": [
    " # **Magic Methods in Python**  \n",
    "\n",
    "Magic methods in Python, also known as **dunder (double underscore) methods**, are special methods that begin and end with double underscores (`__`). These methods allow you to define how objects behave with built-in operations such as addition, subtraction, comparison, and more.  \n",
    "\n",
    "## **Understanding Magic Methods**  \n",
    "\n",
    "Magic methods are predefined in Python and can be **overridden** to customize the behavior of objects. Below are some of the most commonly used magic methods:  \n",
    "\n",
    "### **1. Object Initialization**  \n",
    "- `__init__(self, ...)`  \n",
    "  - Initializes a new instance of a class.  \n",
    "  - Example:  \n",
    "    ```python\n",
    "    class Person:\n",
    "        def __init__(self, name, age):\n",
    "            self.name = name\n",
    "            self.age = age\n",
    "    ```\n",
    "\n",
    "### **2. String Representation**  \n",
    "- `__str__(self)`  \n",
    "  - Returns a **user-friendly** string representation of an object.  \n",
    "  - Example:  \n",
    "    ```python\n",
    "    class Person:\n",
    "        def __init__(self, name, age):\n",
    "            self.name = name\n",
    "            self.age = age\n",
    "\n",
    "        def __str__(self):\n",
    "            return f\"{self.name} is {self.age} years old.\"\n",
    "    \n",
    "    p = Person(\"Alice\", 25)\n",
    "    print(p)  # Output: Alice is 25 years old.\n",
    "    ```\n",
    "\n",
    "### **3. Debugging Representation**  \n",
    "- `__repr__(self)`  \n",
    "  - Returns a **developer-friendly** string representation of an object (useful for debugging).  \n",
    "  - Example:  \n",
    "    ```python\n",
    "    class Person:\n",
    "        def __repr__(self):\n",
    "            return f\"Person(name={self.name}, age={self.age})\"\n",
    "    ```\n",
    "\n",
    "### **4. Length of an Object**  \n",
    "- `__len__(self)`  \n",
    "  - Returns the length of an object.  \n",
    "  - Example:  \n",
    "    ```python\n",
    "    class Team:\n",
    "        def __init__(self, members):\n",
    "            self.members = members\n",
    "\n",
    "        def __len__(self):\n",
    "            return len(self.members)\n",
    "\n",
    "    team = Team([\"Alice\", \"Bob\", \"Charlie\"])\n",
    "    print(len(team))  # Output: 3\n",
    "    ```\n",
    "\n",
    "### **5. Item Access (Indexing Support)**  \n",
    "- `__getitem__(self, index)`  \n",
    "  - Allows an object to use indexing like lists.  \n",
    "  - Example:  \n",
    "    ```python\n",
    "    class Team:\n",
    "        def __getitem__(self, index):\n",
    "            return self.members[index]\n",
    "    ```\n",
    "\n",
    "- `__setitem__(self, index, value)`  \n",
    "  - Allows assigning values using indexing.  \n",
    "  - Example:  \n",
    "    ```python\n",
    "    class Team:\n",
    "        def __setitem__(self, index, value):\n",
    "            self.members[index] = value\n",
    "    ```\n",
    "\n",
    "---\n",
    "\n"
   ]
  },
  {
   "cell_type": "code",
   "execution_count": 9,
   "metadata": {},
   "outputs": [],
   "source": [
    "class Person:\n",
    "    def __init__(self, name, age):\n",
    "        self.name = name\n",
    "        self.age = age\n",
    "\n",
    "    def display(self):\n",
    "        print(f\"Name: {self.name}, Age: {self.age}\")\n",
    "\n",
    "\n",
    "\n",
    "person = Person(\"Ayan\", 20)"
   ]
  },
  {
   "cell_type": "code",
   "execution_count": 13,
   "metadata": {},
   "outputs": [
    {
     "data": {
      "text/plain": [
       "['__class__',\n",
       " '__delattr__',\n",
       " '__dict__',\n",
       " '__dir__',\n",
       " '__doc__',\n",
       " '__eq__',\n",
       " '__format__',\n",
       " '__ge__',\n",
       " '__getattribute__',\n",
       " '__getstate__',\n",
       " '__gt__',\n",
       " '__hash__',\n",
       " '__init__',\n",
       " '__init_subclass__',\n",
       " '__le__',\n",
       " '__lt__',\n",
       " '__module__',\n",
       " '__ne__',\n",
       " '__new__',\n",
       " '__reduce__',\n",
       " '__reduce_ex__',\n",
       " '__repr__',\n",
       " '__setattr__',\n",
       " '__sizeof__',\n",
       " '__str__',\n",
       " '__subclasshook__',\n",
       " '__weakref__',\n",
       " 'age',\n",
       " 'display',\n",
       " 'name']"
      ]
     },
     "execution_count": 13,
     "metadata": {},
     "output_type": "execute_result"
    }
   ],
   "source": [
    "dir(person)"
   ]
  },
  {
   "cell_type": "code",
   "execution_count": 14,
   "metadata": {},
   "outputs": [
    {
     "name": "stdout",
     "output_type": "stream",
     "text": [
      "<__main__.Person object at 0x0000012F6CA14AD0>\n",
      "<built-in method __sizeof__ of Person object at 0x0000012F6CA14AD0>\n"
     ]
    }
   ],
   "source": [
    "## let's try some magic methods in python\n",
    "\n",
    "## __str__ method\n",
    "## This will print the memory address of the object person. To make this more readable and meaningful, we can override the __str__ method in our class.\n",
    "print(person)\n",
    "print(person.__sizeof__)"
   ]
  },
  {
   "cell_type": "code",
   "execution_count": 5,
   "metadata": {},
   "outputs": [
    {
     "name": "stdout",
     "output_type": "stream",
     "text": [
      "Ayan is 20 years old\n"
     ]
    }
   ],
   "source": [
    "class Person:\n",
    "    def __init__(self, name, age):\n",
    "        self.name = name\n",
    "        self.age = age\n",
    "    \n",
    "    ## Overriding the __str__ method\n",
    "    def __str__(self):\n",
    "        return f\"{self.name} is {self.age} years old\"\n",
    "\n",
    "person = Person(\"Ayan\", 20)\n",
    "print(person)\n",
    "        "
   ]
  },
  {
   "cell_type": "markdown",
   "metadata": {},
   "source": [
    "## Operator Overloading\n",
    "\n",
    "Operator Overloading is the ability to define custom behavior for built-in operators in Python (like +, -, *, /, //, %, **, <, >, ==, !=, etc.) for user-defined objects.\n",
    "\n",
    "### **1. Arithmetic Operators**\n",
    "- `__add__(self, other)` : Addition (+)\n",
    "- `__sub__(self, other)` : Subtraction (-)\n",
    "- `__mul__(self, other)` : Multiplication (*)\n",
    "- `__truediv__(self, other)` : Division (/)\n",
    "- `__floordiv__(self, other)` : Floor Division (//)\n",
    "- `__mod__(self, other)` : Modulus (%)\n",
    "- `__pow__(self, other)` : Exponentiation (**)\n",
    "- `__neg__(self)` : Unary Negative (-)\n",
    "- `__pos__(self)` : Unary Positive (+)\n",
    "- `__abs__(self)` : Absolute Value (abs())\n",
    "\n",
    "### **2. Comparison Operators**\n",
    "- `__eq__(self, other)` : Equal to (==)\n",
    "- `__ne__(self, other)` : Not equal to (!=)\n",
    "- `__lt__(self, other)` : Less than (<)\n",
    "- `__le__(self, other)` : Less than or equal to (<=)\n",
    "- `__gt__(self, other)` : Greater than (>)\n",
    "- `__ge__(self, other)` : Greater than or equal to (>=)\n"
   ]
  },
  {
   "cell_type": "code",
   "execution_count": 9,
   "metadata": {},
   "outputs": [
    {
     "data": {
      "text/plain": [
       "10"
      ]
     },
     "execution_count": 9,
     "metadata": {},
     "output_type": "execute_result"
    }
   ],
   "source": [
    "5 + 5"
   ]
  },
  {
   "cell_type": "code",
   "execution_count": 3,
   "metadata": {},
   "outputs": [
    {
     "name": "stdout",
     "output_type": "stream",
     "text": [
      "(6, 8)\n",
      "(-2, -2)\n",
      "(8, 15)\n",
      "(0.5, 0.6)\n"
     ]
    }
   ],
   "source": [
    "class Vector:\n",
    "    def __init__(self, x, y):\n",
    "        self.x = x\n",
    "        self.y = y\n",
    "    \n",
    "    def __add__(self, other):\n",
    "        return Vector(self.x + other.x, self.y + other.y)\n",
    "    \n",
    "    def __sub__(self, other):\n",
    "        return Vector(self.x - other.x, self.y - other.y)\n",
    "    \n",
    "    def __mul__(self, other):\n",
    "        return Vector(self.x * other.x, self.y * other.y)\n",
    "    \n",
    "    def __truediv__(self, other):\n",
    "        return Vector(self.x / other.x, self.y / other.y)\n",
    "    \n",
    "    def __str__(self):\n",
    "        return f\"({self.x}, {self.y})\"\n",
    "    \n",
    "v1 = Vector(2, 3)\n",
    "v2 = Vector(4, 5)\n",
    "\n",
    "print(v1 + v2)\n",
    "print(v1 - v2)\n",
    "print(v1 * v2)\n",
    "print(v1 / v2)"
   ]
  },
  {
   "cell_type": "markdown",
   "metadata": {},
   "source": [
    "### Custom Exception Handling\n",
    "\n",
    "- **Raises**: This is used to raise an exception. This will stop the program and display an error message if the specified condition is met.\n",
    "\n",
    "- **Throw**: This is used to throw an exception. This will stop the program and display an error message if the specified condition is met.\n"
   ]
  },
  {
   "cell_type": "code",
   "execution_count": 4,
   "metadata": {},
   "outputs": [],
   "source": [
    "class  Error(Exception):\n",
    "    pass\n",
    "\n",
    "class dateOfBirthException(Error):\n",
    "    pass"
   ]
  },
  {
   "cell_type": "code",
   "execution_count": 6,
   "metadata": {},
   "outputs": [
    {
     "name": "stdout",
     "output_type": "stream",
     "text": [
      "You are eligible for the job\n"
     ]
    }
   ],
   "source": [
    "year = int(input(\"Enter the year of birth: \"))\n",
    "age = 2025 - year\n",
    "\n",
    "try:\n",
    "    if age >= 18 and age <= 30:\n",
    "        print(\"You are eligible for the job\")\n",
    "    else:\n",
    "        raise dateOfBirthException\n",
    "except dateOfBirthException:\n",
    "    print(\"Sorry, your age should be greater than 18 and less than 30\")"
   ]
  },
  {
   "cell_type": "code",
   "execution_count": null,
   "metadata": {},
   "outputs": [],
   "source": []
  }
 ],
 "metadata": {
  "kernelspec": {
   "display_name": "base",
   "language": "python",
   "name": "python3"
  },
  "language_info": {
   "codemirror_mode": {
    "name": "ipython",
    "version": 3
   },
   "file_extension": ".py",
   "mimetype": "text/x-python",
   "name": "python",
   "nbconvert_exporter": "python",
   "pygments_lexer": "ipython3",
   "version": "3.12.7"
  },
  "panel-cell-order": [
   "10949f38",
   "7c682eb2",
   "091ad299",
   "ddc60661",
   "656de9ea",
   "d1f24a4e",
   "d0053486",
   "e4c935a4",
   "503236d9",
   "f7bc81a2",
   "7971e345",
   "1093c34f",
   "e569e6dc",
   "a1f1cc4f"
  ]
 },
 "nbformat": 4,
 "nbformat_minor": 4
}
