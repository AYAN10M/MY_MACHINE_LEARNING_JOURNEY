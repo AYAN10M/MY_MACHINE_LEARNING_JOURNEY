{
 "cells": [
  {
   "cell_type": "markdown",
   "metadata": {},
   "source": [
    "Numpy stands for Numerical Python"
   ]
  },
  {
   "cell_type": "markdown",
   "metadata": {},
   "source": [
    "Numpy is gonna become the foundation to convert the data into the series of the number and the machine learning algorithm would try to find the pattern among them."
   ]
  },
  {
   "cell_type": "markdown",
   "metadata": {},
   "source": [
    "Why NumPy?\n",
    "* It's fast\n",
    "* Behind the scenes optimizations written in C\n",
    "* Vectorization via broadcasting (avoiding loops)"
   ]
  },
  {
   "cell_type": "markdown",
   "metadata": {},
   "source": []
  }
 ],
 "metadata": {
  "language_info": {
   "name": "python"
  }
 },
 "nbformat": 4,
 "nbformat_minor": 2
}
