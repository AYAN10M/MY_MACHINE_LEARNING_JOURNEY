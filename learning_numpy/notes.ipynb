{
 "cells": [
  {
   "cell_type": "markdown",
   "metadata": {},
   "source": [
    "Numpy stands for Numerical Python"
   ]
  },
  {
   "cell_type": "markdown",
   "metadata": {},
   "source": [
    "Numpy is gonna become the foundation to convert the data into the series of the number and the machine learning algorithm would try to find the pattern among them."
   ]
  },
  {
   "cell_type": "markdown",
   "metadata": {},
   "source": [
    "Why NumPy?\n",
    "* It's fast\n",
    "* Behind the scenes optimizations written in C\n",
    "* Vectorization via broadcasting (avoiding loops)"
   ]
  },
  {
   "cell_type": "markdown",
   "metadata": {},
   "source": []
  }
 ],
 "metadata": {
  "kernelspec": {
   "display_name": "Python 3 (ipykernel)",
   "language": "python",
   "name": "python3"
  },
  "language_info": {
   "codemirror_mode": {
    "name": "ipython",
    "version": 3
   },
   "file_extension": ".py",
   "mimetype": "text/x-python",
   "name": "python",
   "nbconvert_exporter": "python",
   "pygments_lexer": "ipython3",
   "version": "3.12.4"
  }
 },
 "nbformat": 4,
 "nbformat_minor": 4
}
